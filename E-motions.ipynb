{
 "cells": [
  {
   "cell_type": "code",
   "execution_count": 48,
   "metadata": {},
   "outputs": [],
   "source": [
    "import numpy as np\n",
    "import pandas as pd\n",
    "import matplotlib.pyplot as plt\n",
    "import seaborn as sns\n",
    "from sklearn.model_selection import train_test_split\n",
    "from sklearn.preprocessing import PolynomialFeatures, StandardScaler\n",
    "from sklearn.ensemble import RandomForestClassifier\n",
    "from sklearn.model_selection import GridSearchCV\n",
    "from sklearn.tree import DecisionTreeClassifier\n",
    "scaler=StandardScaler()\n",
    "from sklearn.cluster import KMeans, DBSCAN, AgglomerativeClustering\n",
    "from sklearn.metrics import classification_report, confusion_matrix, davies_bouldin_score"
   ]
  },
  {
   "cell_type": "code",
   "execution_count": 3,
   "metadata": {},
   "outputs": [
    {
     "data": {
      "text/html": [
       "<div>\n",
       "<style scoped>\n",
       "    .dataframe tbody tr th:only-of-type {\n",
       "        vertical-align: middle;\n",
       "    }\n",
       "\n",
       "    .dataframe tbody tr th {\n",
       "        vertical-align: top;\n",
       "    }\n",
       "\n",
       "    .dataframe thead th {\n",
       "        text-align: right;\n",
       "    }\n",
       "</style>\n",
       "<table border=\"1\" class=\"dataframe\">\n",
       "  <thead>\n",
       "    <tr style=\"text-align: right;\">\n",
       "      <th></th>\n",
       "      <th>name</th>\n",
       "      <th>Emotion</th>\n",
       "      <th>pcm_intensity_sma_max</th>\n",
       "      <th>pcm_intensity_sma_min</th>\n",
       "      <th>pcm_intensity_sma_range</th>\n",
       "      <th>pcm_intensity_sma_maxPos</th>\n",
       "      <th>pcm_intensity_sma_minPos</th>\n",
       "      <th>pcm_intensity_sma_amean</th>\n",
       "      <th>pcm_intensity_sma_linregc1</th>\n",
       "      <th>pcm_intensity_sma_linregc2</th>\n",
       "      <th>...</th>\n",
       "      <th>F0env_sma_de_linregerrQ</th>\n",
       "      <th>F0env_sma_de_stddev</th>\n",
       "      <th>F0env_sma_de_skewness</th>\n",
       "      <th>F0env_sma_de_kurtosis</th>\n",
       "      <th>F0env_sma_de_quartile1</th>\n",
       "      <th>F0env_sma_de_quartile2</th>\n",
       "      <th>F0env_sma_de_quartile3</th>\n",
       "      <th>F0env_sma_de_iqr12</th>\n",
       "      <th>F0env_sma_de_iqr23</th>\n",
       "      <th>F0env_sma_de_iqr13</th>\n",
       "    </tr>\n",
       "  </thead>\n",
       "  <tbody>\n",
       "    <tr>\n",
       "      <th>0</th>\n",
       "      <td>V2_1 (1).wav'</td>\n",
       "      <td>surprised</td>\n",
       "      <td>0.000002</td>\n",
       "      <td>0</td>\n",
       "      <td>0.000002</td>\n",
       "      <td>39</td>\n",
       "      <td>0</td>\n",
       "      <td>0.0</td>\n",
       "      <td>0.0</td>\n",
       "      <td>0.000000</td>\n",
       "      <td>...</td>\n",
       "      <td>44.290160</td>\n",
       "      <td>6.804174</td>\n",
       "      <td>3.144908</td>\n",
       "      <td>12.621420</td>\n",
       "      <td>-0.208212</td>\n",
       "      <td>0.000000</td>\n",
       "      <td>1.819850</td>\n",
       "      <td>0.208212</td>\n",
       "      <td>1.819850</td>\n",
       "      <td>2.028063</td>\n",
       "    </tr>\n",
       "    <tr>\n",
       "      <th>1</th>\n",
       "      <td>V2_1 (2).wav'</td>\n",
       "      <td>surprised</td>\n",
       "      <td>0.000002</td>\n",
       "      <td>0</td>\n",
       "      <td>0.000002</td>\n",
       "      <td>38</td>\n",
       "      <td>0</td>\n",
       "      <td>0.0</td>\n",
       "      <td>0.0</td>\n",
       "      <td>0.000000</td>\n",
       "      <td>...</td>\n",
       "      <td>15.284100</td>\n",
       "      <td>4.709333</td>\n",
       "      <td>2.091973</td>\n",
       "      <td>7.180433</td>\n",
       "      <td>-0.068987</td>\n",
       "      <td>0.610156</td>\n",
       "      <td>2.934069</td>\n",
       "      <td>0.679144</td>\n",
       "      <td>2.323913</td>\n",
       "      <td>3.003057</td>\n",
       "    </tr>\n",
       "    <tr>\n",
       "      <th>2</th>\n",
       "      <td>V2_1 (3).wav'</td>\n",
       "      <td>surprised</td>\n",
       "      <td>0.000002</td>\n",
       "      <td>0</td>\n",
       "      <td>0.000002</td>\n",
       "      <td>38</td>\n",
       "      <td>0</td>\n",
       "      <td>0.0</td>\n",
       "      <td>0.0</td>\n",
       "      <td>0.000000</td>\n",
       "      <td>...</td>\n",
       "      <td>46.801960</td>\n",
       "      <td>7.886595</td>\n",
       "      <td>2.563328</td>\n",
       "      <td>9.669317</td>\n",
       "      <td>-0.837921</td>\n",
       "      <td>0.000000</td>\n",
       "      <td>1.825973</td>\n",
       "      <td>0.837921</td>\n",
       "      <td>1.825973</td>\n",
       "      <td>2.663894</td>\n",
       "    </tr>\n",
       "    <tr>\n",
       "      <th>3</th>\n",
       "      <td>V2_1 (4).wav'</td>\n",
       "      <td>surprised</td>\n",
       "      <td>0.000002</td>\n",
       "      <td>0</td>\n",
       "      <td>0.000002</td>\n",
       "      <td>38</td>\n",
       "      <td>0</td>\n",
       "      <td>0.0</td>\n",
       "      <td>0.0</td>\n",
       "      <td>0.000000</td>\n",
       "      <td>...</td>\n",
       "      <td>26.651830</td>\n",
       "      <td>5.670303</td>\n",
       "      <td>1.837990</td>\n",
       "      <td>7.500129</td>\n",
       "      <td>0.000000</td>\n",
       "      <td>0.215477</td>\n",
       "      <td>3.138976</td>\n",
       "      <td>0.215477</td>\n",
       "      <td>2.923499</td>\n",
       "      <td>3.138976</td>\n",
       "    </tr>\n",
       "    <tr>\n",
       "      <th>4</th>\n",
       "      <td>V2_1 (5).wav'</td>\n",
       "      <td>surprised</td>\n",
       "      <td>0.000001</td>\n",
       "      <td>0</td>\n",
       "      <td>0.000001</td>\n",
       "      <td>57</td>\n",
       "      <td>0</td>\n",
       "      <td>0.0</td>\n",
       "      <td>0.0</td>\n",
       "      <td>0.000000</td>\n",
       "      <td>...</td>\n",
       "      <td>16.190310</td>\n",
       "      <td>4.621727</td>\n",
       "      <td>1.855579</td>\n",
       "      <td>5.687108</td>\n",
       "      <td>-0.105829</td>\n",
       "      <td>0.327793</td>\n",
       "      <td>2.982076</td>\n",
       "      <td>0.433622</td>\n",
       "      <td>2.654283</td>\n",
       "      <td>3.087905</td>\n",
       "    </tr>\n",
       "    <tr>\n",
       "      <th>...</th>\n",
       "      <td>...</td>\n",
       "      <td>...</td>\n",
       "      <td>...</td>\n",
       "      <td>...</td>\n",
       "      <td>...</td>\n",
       "      <td>...</td>\n",
       "      <td>...</td>\n",
       "      <td>...</td>\n",
       "      <td>...</td>\n",
       "      <td>...</td>\n",
       "      <td>...</td>\n",
       "      <td>...</td>\n",
       "      <td>...</td>\n",
       "      <td>...</td>\n",
       "      <td>...</td>\n",
       "      <td>...</td>\n",
       "      <td>...</td>\n",
       "      <td>...</td>\n",
       "      <td>...</td>\n",
       "      <td>...</td>\n",
       "      <td>...</td>\n",
       "    </tr>\n",
       "    <tr>\n",
       "      <th>1378</th>\n",
       "      <td>V8_86 (1).wav'</td>\n",
       "      <td>happy</td>\n",
       "      <td>0.000002</td>\n",
       "      <td>0</td>\n",
       "      <td>0.000002</td>\n",
       "      <td>14</td>\n",
       "      <td>0</td>\n",
       "      <td>0.0</td>\n",
       "      <td>0.0</td>\n",
       "      <td>0.000001</td>\n",
       "      <td>...</td>\n",
       "      <td>46.330060</td>\n",
       "      <td>7.411534</td>\n",
       "      <td>3.754066</td>\n",
       "      <td>17.230610</td>\n",
       "      <td>-0.711349</td>\n",
       "      <td>0.000000</td>\n",
       "      <td>1.738371</td>\n",
       "      <td>0.711349</td>\n",
       "      <td>1.738371</td>\n",
       "      <td>2.449720</td>\n",
       "    </tr>\n",
       "    <tr>\n",
       "      <th>1379</th>\n",
       "      <td>V8_86 (2).wav'</td>\n",
       "      <td>happy</td>\n",
       "      <td>0.000002</td>\n",
       "      <td>0</td>\n",
       "      <td>0.000002</td>\n",
       "      <td>37</td>\n",
       "      <td>17</td>\n",
       "      <td>0.0</td>\n",
       "      <td>0.0</td>\n",
       "      <td>0.000000</td>\n",
       "      <td>...</td>\n",
       "      <td>116.327900</td>\n",
       "      <td>11.149410</td>\n",
       "      <td>2.389217</td>\n",
       "      <td>9.741152</td>\n",
       "      <td>-1.214516</td>\n",
       "      <td>0.000000</td>\n",
       "      <td>0.439748</td>\n",
       "      <td>1.214516</td>\n",
       "      <td>0.439748</td>\n",
       "      <td>1.654264</td>\n",
       "    </tr>\n",
       "    <tr>\n",
       "      <th>1380</th>\n",
       "      <td>V8_86 (3).wav'</td>\n",
       "      <td>happy</td>\n",
       "      <td>0.000002</td>\n",
       "      <td>0</td>\n",
       "      <td>0.000002</td>\n",
       "      <td>30</td>\n",
       "      <td>82</td>\n",
       "      <td>0.0</td>\n",
       "      <td>0.0</td>\n",
       "      <td>0.000000</td>\n",
       "      <td>...</td>\n",
       "      <td>33.875890</td>\n",
       "      <td>6.562593</td>\n",
       "      <td>3.346482</td>\n",
       "      <td>14.282370</td>\n",
       "      <td>-0.747681</td>\n",
       "      <td>0.000000</td>\n",
       "      <td>2.010342</td>\n",
       "      <td>0.747681</td>\n",
       "      <td>2.010342</td>\n",
       "      <td>2.758023</td>\n",
       "    </tr>\n",
       "    <tr>\n",
       "      <th>1381</th>\n",
       "      <td>V8_87 (1).wav'</td>\n",
       "      <td>happy</td>\n",
       "      <td>0.000002</td>\n",
       "      <td>0</td>\n",
       "      <td>0.000002</td>\n",
       "      <td>39</td>\n",
       "      <td>0</td>\n",
       "      <td>0.0</td>\n",
       "      <td>0.0</td>\n",
       "      <td>0.000000</td>\n",
       "      <td>...</td>\n",
       "      <td>42.019350</td>\n",
       "      <td>6.661080</td>\n",
       "      <td>3.258098</td>\n",
       "      <td>13.402520</td>\n",
       "      <td>0.000000</td>\n",
       "      <td>0.000000</td>\n",
       "      <td>1.703708</td>\n",
       "      <td>0.000000</td>\n",
       "      <td>1.703708</td>\n",
       "      <td>1.703708</td>\n",
       "    </tr>\n",
       "    <tr>\n",
       "      <th>1382</th>\n",
       "      <td>V8_87 (2).wav'</td>\n",
       "      <td>happy</td>\n",
       "      <td>0.000000</td>\n",
       "      <td>0</td>\n",
       "      <td>0.000000</td>\n",
       "      <td>3</td>\n",
       "      <td>2</td>\n",
       "      <td>0.0</td>\n",
       "      <td>0.0</td>\n",
       "      <td>0.000000</td>\n",
       "      <td>...</td>\n",
       "      <td>1.672624</td>\n",
       "      <td>1.662271</td>\n",
       "      <td>-0.637333</td>\n",
       "      <td>2.032843</td>\n",
       "      <td>8.975096</td>\n",
       "      <td>9.973009</td>\n",
       "      <td>10.582430</td>\n",
       "      <td>0.997913</td>\n",
       "      <td>0.609424</td>\n",
       "      <td>1.607337</td>\n",
       "    </tr>\n",
       "  </tbody>\n",
       "</table>\n",
       "<p>1383 rows × 846 columns</p>\n",
       "</div>"
      ],
      "text/plain": [
       "                name   Emotion   pcm_intensity_sma_max  pcm_intensity_sma_min  \\\n",
       "0      V2_1 (1).wav'  surprised               0.000002                      0   \n",
       "1      V2_1 (2).wav'  surprised               0.000002                      0   \n",
       "2      V2_1 (3).wav'  surprised               0.000002                      0   \n",
       "3      V2_1 (4).wav'  surprised               0.000002                      0   \n",
       "4      V2_1 (5).wav'  surprised               0.000001                      0   \n",
       "...              ...        ...                    ...                    ...   \n",
       "1378  V8_86 (1).wav'      happy               0.000002                      0   \n",
       "1379  V8_86 (2).wav'      happy               0.000002                      0   \n",
       "1380  V8_86 (3).wav'      happy               0.000002                      0   \n",
       "1381  V8_87 (1).wav'      happy               0.000002                      0   \n",
       "1382  V8_87 (2).wav'      happy               0.000000                      0   \n",
       "\n",
       "      pcm_intensity_sma_range  pcm_intensity_sma_maxPos  \\\n",
       "0                    0.000002                        39   \n",
       "1                    0.000002                        38   \n",
       "2                    0.000002                        38   \n",
       "3                    0.000002                        38   \n",
       "4                    0.000001                        57   \n",
       "...                       ...                       ...   \n",
       "1378                 0.000002                        14   \n",
       "1379                 0.000002                        37   \n",
       "1380                 0.000002                        30   \n",
       "1381                 0.000002                        39   \n",
       "1382                 0.000000                         3   \n",
       "\n",
       "      pcm_intensity_sma_minPos  pcm_intensity_sma_amean  \\\n",
       "0                            0                      0.0   \n",
       "1                            0                      0.0   \n",
       "2                            0                      0.0   \n",
       "3                            0                      0.0   \n",
       "4                            0                      0.0   \n",
       "...                        ...                      ...   \n",
       "1378                         0                      0.0   \n",
       "1379                        17                      0.0   \n",
       "1380                        82                      0.0   \n",
       "1381                         0                      0.0   \n",
       "1382                         2                      0.0   \n",
       "\n",
       "      pcm_intensity_sma_linregc1  pcm_intensity_sma_linregc2  ...  \\\n",
       "0                            0.0                    0.000000  ...   \n",
       "1                            0.0                    0.000000  ...   \n",
       "2                            0.0                    0.000000  ...   \n",
       "3                            0.0                    0.000000  ...   \n",
       "4                            0.0                    0.000000  ...   \n",
       "...                          ...                         ...  ...   \n",
       "1378                         0.0                    0.000001  ...   \n",
       "1379                         0.0                    0.000000  ...   \n",
       "1380                         0.0                    0.000000  ...   \n",
       "1381                         0.0                    0.000000  ...   \n",
       "1382                         0.0                    0.000000  ...   \n",
       "\n",
       "      F0env_sma_de_linregerrQ  F0env_sma_de_stddev  F0env_sma_de_skewness  \\\n",
       "0                   44.290160             6.804174               3.144908   \n",
       "1                   15.284100             4.709333               2.091973   \n",
       "2                   46.801960             7.886595               2.563328   \n",
       "3                   26.651830             5.670303               1.837990   \n",
       "4                   16.190310             4.621727               1.855579   \n",
       "...                       ...                  ...                    ...   \n",
       "1378                46.330060             7.411534               3.754066   \n",
       "1379               116.327900            11.149410               2.389217   \n",
       "1380                33.875890             6.562593               3.346482   \n",
       "1381                42.019350             6.661080               3.258098   \n",
       "1382                 1.672624             1.662271              -0.637333   \n",
       "\n",
       "      F0env_sma_de_kurtosis  F0env_sma_de_quartile1  F0env_sma_de_quartile2  \\\n",
       "0                 12.621420               -0.208212                0.000000   \n",
       "1                  7.180433               -0.068987                0.610156   \n",
       "2                  9.669317               -0.837921                0.000000   \n",
       "3                  7.500129                0.000000                0.215477   \n",
       "4                  5.687108               -0.105829                0.327793   \n",
       "...                     ...                     ...                     ...   \n",
       "1378              17.230610               -0.711349                0.000000   \n",
       "1379               9.741152               -1.214516                0.000000   \n",
       "1380              14.282370               -0.747681                0.000000   \n",
       "1381              13.402520                0.000000                0.000000   \n",
       "1382               2.032843                8.975096                9.973009   \n",
       "\n",
       "      F0env_sma_de_quartile3  F0env_sma_de_iqr12  F0env_sma_de_iqr23  \\\n",
       "0                   1.819850            0.208212            1.819850   \n",
       "1                   2.934069            0.679144            2.323913   \n",
       "2                   1.825973            0.837921            1.825973   \n",
       "3                   3.138976            0.215477            2.923499   \n",
       "4                   2.982076            0.433622            2.654283   \n",
       "...                      ...                 ...                 ...   \n",
       "1378                1.738371            0.711349            1.738371   \n",
       "1379                0.439748            1.214516            0.439748   \n",
       "1380                2.010342            0.747681            2.010342   \n",
       "1381                1.703708            0.000000            1.703708   \n",
       "1382               10.582430            0.997913            0.609424   \n",
       "\n",
       "      F0env_sma_de_iqr13  \n",
       "0               2.028063  \n",
       "1               3.003057  \n",
       "2               2.663894  \n",
       "3               3.138976  \n",
       "4               3.087905  \n",
       "...                  ...  \n",
       "1378            2.449720  \n",
       "1379            1.654264  \n",
       "1380            2.758023  \n",
       "1381            1.703708  \n",
       "1382            1.607337  \n",
       "\n",
       "[1383 rows x 846 columns]"
      ]
     },
     "execution_count": 3,
     "metadata": {},
     "output_type": "execute_result"
    }
   ],
   "source": [
    "df=pd.read_csv(\"files folder\\\\ANAD.csv\")\n",
    "df"
   ]
  },
  {
   "cell_type": "code",
   "execution_count": 4,
   "metadata": {},
   "outputs": [
    {
     "name": "stdout",
     "output_type": "stream",
     "text": [
      "<class 'pandas.core.frame.DataFrame'>\n",
      "RangeIndex: 1383 entries, 0 to 1382\n",
      "Columns: 846 entries, name to F0env_sma_de_iqr13\n",
      "dtypes: float64(761), int64(83), object(2)\n",
      "memory usage: 8.9+ MB\n"
     ]
    }
   ],
   "source": [
    "df.info()"
   ]
  },
  {
   "cell_type": "code",
   "execution_count": 9,
   "metadata": {},
   "outputs": [
    {
     "name": "stdout",
     "output_type": "stream",
     "text": [
      "angry        741\n",
      "happy        505\n",
      "surprised    137\n",
      "Name: Emotion , dtype: int64\n"
     ]
    },
    {
     "data": {
      "text/plain": [
       "array(['surprised', 'angry', 'happy'], dtype=object)"
      ]
     },
     "execution_count": 9,
     "metadata": {},
     "output_type": "execute_result"
    }
   ],
   "source": [
    "print(df['Emotion '].value_counts())\n",
    "df['Emotion '].unique()"
   ]
  },
  {
   "cell_type": "code",
   "execution_count": 6,
   "metadata": {
    "scrolled": true
   },
   "outputs": [
    {
     "data": {
      "image/png": "[encoded data removed]",
      "text/plain": [
       "<Figure size 720x576 with 1 Axes>"
      ]
     },
     "metadata": {
      "needs_background": "light"
     },
     "output_type": "display_data"
    }
   ],
   "source": [
    "plt.figure(figsize = (10, 8))\n",
    "sns.countplot(df['Emotion '])\n",
    "plt.show()"
   ]
  },
  {
   "cell_type": "code",
   "execution_count": 10,
   "metadata": {},
   "outputs": [
    {
     "data": {
      "text/plain": [
       "name                       0\n",
       "Emotion                    0\n",
       "pcm_intensity_sma_max      0\n",
       "pcm_intensity_sma_min      0\n",
       "pcm_intensity_sma_range    0\n",
       "                          ..\n",
       "F0env_sma_de_quartile2     0\n",
       "F0env_sma_de_quartile3     0\n",
       "F0env_sma_de_iqr12         0\n",
       "F0env_sma_de_iqr23         0\n",
       "F0env_sma_de_iqr13         0\n",
       "Length: 846, dtype: int64"
      ]
     },
     "execution_count": 10,
     "metadata": {},
     "output_type": "execute_result"
    }
   ],
   "source": [
    "df.isnull().sum()"
   ]
  },
  {
   "cell_type": "code",
   "execution_count": 11,
   "metadata": {},
   "outputs": [
    {
     "data": {
      "text/plain": [
       "0"
      ]
     },
     "execution_count": 11,
     "metadata": {},
     "output_type": "execute_result"
    }
   ],
   "source": [
    "df.isnull().sum().sum()"
   ]
  },
  {
   "cell_type": "code",
   "execution_count": 15,
   "metadata": {},
   "outputs": [],
   "source": [
    "X = df.drop(['name', 'Emotion '], axis = 1)\n",
    "y = df['Emotion ']\n",
    "X_train, X_test, y_train, y_test = train_test_split(X, y, test_size=0.3, random_state = 42)"
   ]
  },
  {
   "cell_type": "code",
   "execution_count": 21,
   "metadata": {},
   "outputs": [
    {
     "name": "stdout",
     "output_type": "stream",
     "text": [
      "              precision    recall  f1-score   support\n",
      "\n",
      "       angry       0.83      0.89      0.86       215\n",
      "       happy       0.90      0.86      0.88       160\n",
      "   surprised       0.56      0.45      0.50        40\n",
      "\n",
      "    accuracy                           0.84       415\n",
      "   macro avg       0.77      0.74      0.75       415\n",
      "weighted avg       0.83      0.84      0.84       415\n",
      "\n"
     ]
    },
    {
     "name": "stderr",
     "output_type": "stream",
     "text": [
      "c:\\users\\user16\\appdata\\local\\programs\\python\\python37\\lib\\site-packages\\sklearn\\linear_model\\_logistic.py:940: ConvergenceWarning: lbfgs failed to converge (status=1):\n",
      "STOP: TOTAL NO. of ITERATIONS REACHED LIMIT.\n",
      "\n",
      "Increase the number of iterations (max_iter) or scale the data as shown in:\n",
      "    https://scikit-learn.org/stable/modules/preprocessing.html\n",
      "Please also refer to the documentation for alternative solver options:\n",
      "    https://scikit-learn.org/stable/modules/linear_model.html#logistic-regression\n",
      "  extra_warning_msg=_LOGISTIC_SOLVER_CONVERGENCE_MSG)\n"
     ]
    }
   ],
   "source": [
    "l = LogisticRegression()\n",
    "l.fit(X_train, y_train)\n",
    "pred = l.predict(X_test)\n",
    "print(classification_report(y_test, pred))"
   ]
  },
  {
   "cell_type": "code",
   "execution_count": 29,
   "metadata": {},
   "outputs": [
    {
     "data": {
      "image/png": "[encoded data removed]",
      "text/plain": [
       "<Figure size 720x576 with 1 Axes>"
      ]
     },
     "metadata": {
      "needs_background": "light"
     },
     "output_type": "display_data"
    }
   ],
   "source": [
    "k = ['angry', 'happy', 'surprised']\n",
    "pdf = pd.DataFrame(confusion_matrix(y_test, pred), index = k , columns = k )\n",
    "plt.figure(figsize = (10, 8))\n",
    "sns.heatmap(pdf, annot = True, cbar = False,fmt = 'd')\n",
    "plt.ylabel('Real Values')\n",
    "plt.xlabel('Predicted Values')\n",
    "plt.show()"
   ]
  },
  {
   "cell_type": "code",
   "execution_count": 45,
   "metadata": {},
   "outputs": [
    {
     "data": {
      "text/plain": [
       "{'n_estimators': 100}"
      ]
     },
     "execution_count": 45,
     "metadata": {},
     "output_type": "execute_result"
    }
   ],
   "source": [
    "grid = {'n_estimators': [10, 50, 100, 300]}\n",
    "p = GridSearchCV(RandomForestClassifier(), grid)\n",
    "p.fit(X_train, y_train)\n",
    "p.best_params_"
   ]
  },
  {
   "cell_type": "code",
   "execution_count": 46,
   "metadata": {},
   "outputs": [
    {
     "name": "stdout",
     "output_type": "stream",
     "text": [
      "              precision    recall  f1-score   support\n",
      "\n",
      "       angry       0.90      1.00      0.94       215\n",
      "       happy       0.99      0.95      0.97       160\n",
      "   surprised       0.95      0.53      0.68        40\n",
      "\n",
      "    accuracy                           0.93       415\n",
      "   macro avg       0.95      0.82      0.86       415\n",
      "weighted avg       0.94      0.93      0.93       415\n",
      "\n"
     ]
    }
   ],
   "source": [
    "pred_2 = p.predict(X_test)\n",
    "print(classification_report(y_test, pred_2))"
   ]
  },
  {
   "cell_type": "code",
   "execution_count": 47,
   "metadata": {},
   "outputs": [
    {
     "data": {
      "image/png": "[encoded data removed]",
      "text/plain": [
       "<Figure size 720x576 with 1 Axes>"
      ]
     },
     "metadata": {
      "needs_background": "light"
     },
     "output_type": "display_data"
    }
   ],
   "source": [
    "rfc = pd.DataFrame(confusion_matrix(y_test, pred_2), index = k, columns = k)\n",
    "\n",
    "plt.figure(figsize = (10, 8))\n",
    "sns.heatmap(rfc, annot = True, cbar = False, fmt = 'd')\n",
    "plt.ylabel('Real Values')\n",
    "plt.xlabel('Predicted Values')\n",
    "plt.show()"
   ]
  },
  {
   "cell_type": "markdown",
   "metadata": {},
   "source": [
    "We have shown that the emotion can be deducted from our features with a random tree classification and a Logistic regression.In our analyse the random tree classification showed to be slitly more accurate"
   ]
  }
 ],
 "metadata": {
  "kernelspec": {
   "display_name": "Python 3",
   "language": "python",
   "name": "python3"
  },
  "language_info": {
   "codemirror_mode": {
    "name": "ipython",
    "version": 3
   },
   "file_extension": ".py",
   "mimetype": "text/x-python",
   "name": "python",
   "nbconvert_exporter": "python",
   "pygments_lexer": "ipython3",
   "version": "3.7.6"
  }
 },
 "nbformat": 4,
 "nbformat_minor": 4
}
